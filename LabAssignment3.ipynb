{
 "cells": [
  {
   "cell_type": "code",
   "execution_count": 1,
   "metadata": {},
   "outputs": [],
   "source": [
    "import numpy as np"
   ]
  },
  {
   "cell_type": "code",
   "execution_count": 8,
   "metadata": {},
   "outputs": [
    {
     "name": "stdout",
     "output_type": "stream",
     "text": [
      "False\n"
     ]
    }
   ],
   "source": [
    "import numpy as np\n",
    "def no_zeros(arrayInput):\n",
    "    ## TODO: This function should return True if \n",
    "    ## numpy array arrayInput does not contain any zero\n",
    "    ## and will return False otherwise.\n",
    "    ## Implement this function using ONLY numpy methods\n",
    "    ## Sample input: [1,2,3,4,5,6,0] Sample Output: False\n",
    "     \n",
    "    #  np.where(np.any(arrayInput)==0)\n",
    "    #  return atleast_1d(np.any(arrayInput)==0).nonzero()\n",
    "    return np.all(arrayInput != 0)  #np.all test all array elements along a given axis evaluate to True or false\n",
    "arr1 = np.array([1, 2, 3, 4,0])\n",
    "print(no_zeros(arr1))\n",
    "\n"
   ]
  },
  {
   "cell_type": "code",
   "execution_count": 10,
   "metadata": {},
   "outputs": [
    {
     "name": "stdout",
     "output_type": "stream",
     "text": [
      "[ 0 25 50 75]\n"
     ]
    }
   ],
   "source": [
    "def linearly_distributed(n, min, max):\n",
    "    ## TODO: This function should return a numpy array of \n",
    "    ## length n with equally spaced elements from \n",
    "    ## min (inclusive) to max (exclusive)\n",
    "    ## Implement this function using ONLY numpy methods\n",
    "    ## Sample input: (4,0,100) sample output [0,33,66, 99]\n",
    "     return np.linspace(min,max,n, endpoint=False, dtype=int )\n",
    "    \n",
    "arr1= np.array([4,0,100])\n",
    "min_arr1=np.min(arr1)\n",
    "max_arr1=np.max(arr1)\n",
    "array_No=4\n",
    "print(linearly_distributed(array_No,min_arr1,max_arr1))\n"
   ]
  },
  {
   "cell_type": "code",
   "execution_count": 17,
   "metadata": {},
   "outputs": [
    {
     "name": "stdout",
     "output_type": "stream",
     "text": [
      "[[1 1 1 1 1]\n",
      " [1 0 0 0 1]\n",
      " [1 0 0 0 1]\n",
      " [1 0 0 0 1]\n",
      " [1 1 1 1 1]]\n"
     ]
    }
   ],
   "source": [
    "\n",
    "def two_dimensions(n):\n",
    "    ## TODO: This function should create a 2d Array of shape n*n\n",
    "    ## Where the borders of the array are ones\n",
    "    ## all other elements are zero\n",
    "    ## Implement this function using ONLY numpy methods\n",
    "    ## Sample input 3\n",
    "    ## sample output [[1,1,1],[1,0,1],[1,1,1]]\n",
    "    my_array=np.ones((n,n),dtype=int)         #creating array full with ones\n",
    "    \n",
    "    my_array[1:-1,1:-1] =0                         #change the elemets from second row(1)to befor last \n",
    "                                                   #and second culom to before last to one\n",
    "    return my_array\n",
    "array_dimention=5\n",
    "print(two_dimensions(array_dimention))\n",
    "\n",
    "    "
   ]
  },
  {
   "cell_type": "code",
   "execution_count": 2,
   "metadata": {},
   "outputs": [
    {
     "name": "stdout",
     "output_type": "stream",
     "text": [
      "[0 8 2 6 1 0 2 1 0 9]\n"
     ]
    }
   ],
   "source": [
    "import numpy as np\n",
    "def create_array(n,min,max):\n",
    "    ## TODO: This function should return a numpy array of \n",
    "    ## length n with random elements from \n",
    "    ## min (inclusive) to max (exclusive)\n",
    "    ## Implement this function using ONLY numpy methods \n",
    "    ## USE np.random.rand for generating the numbers \n",
    "    ## Sample Input (10,0,10) sample output(0,2,2,3,1,5,9,7,8,3)\n",
    "   return np.random.randint(min,max,size=n)       #Returning random integers from low (inclusive) to high (exclusive)\n",
    "   \n",
    "minimum_no=0\n",
    "maximun_no=10\n",
    "lenght=10\n",
    "print(create_array(lenght,minimum_no,maximun_no))"
   ]
  },
  {
   "cell_type": "code",
   "execution_count": 6,
   "metadata": {},
   "outputs": [
    {
     "name": "stdout",
     "output_type": "stream",
     "text": [
      "[[14  2 18 16 23]\n",
      " [22 13  6 21  9]\n",
      " [ 1  3 24 19 10]\n",
      " [11 17  0  5 20]\n",
      " [ 4 15  8 12  7]]\n"
     ]
    }
   ],
   "source": [
    "def random_generation(n,min,max):\n",
    "    ## TODO: Write a function that takes as an input\n",
    "    ## Dimension of 2d Array n, min and max\n",
    "    ## Generate an n*n array with random numbers between\n",
    "    ## min and max inclusive\n",
    "    ## Such that no element is duplicated\n",
    "    ## return numpy array\n",
    "    ## Implement this function using ONLY numpy methods\n",
    "    ## Sample Input: random_generation(3,0,12) --> [[4,2,6],[1,5,11],[10, 3,9]]\n",
    "    \n",
    "    \n",
    "    a=np.random.choice(np.arange(min,max),size=n*n,replace=False)\n",
    "    return a.reshape((n, n))\n",
    "  \n",
    "     \n",
    "minimum_no=0\n",
    "maximun_no=25\n",
    "lenght=5\n",
    "print(random_generation(lenght,minimum_no,maximun_no))"
   ]
  }
 ],
 "metadata": {
  "kernelspec": {
   "display_name": "CSCN8010_classic_ml",
   "language": "python",
   "name": "cscn8010_classic_ml"
  },
  "language_info": {
   "codemirror_mode": {
    "name": "ipython",
    "version": 3
   },
   "file_extension": ".py",
   "mimetype": "text/x-python",
   "name": "python",
   "nbconvert_exporter": "python",
   "pygments_lexer": "ipython3",
   "version": "3.11.7"
  },
  "orig_nbformat": 4
 },
 "nbformat": 4,
 "nbformat_minor": 2
}
