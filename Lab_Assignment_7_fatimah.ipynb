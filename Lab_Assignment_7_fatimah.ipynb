{
 "cells": [
  {
   "cell_type": "markdown",
   "metadata": {},
   "source": [
    "### Lab_7_Inclass_Assignment\n",
    "- Name:Fatimah Almusawi\n",
    "- Student ID:9000400\n"
   ]
  },
  {
   "cell_type": "markdown",
   "metadata": {},
   "source": [
    "##### Data Integration: Approximate String Matching\n",
    "1- Implement FROM SCRATCH the approximate string matching functionality using Levenshtein Distance\n",
    "- Levenshtein Distance between two strings a,b of length |a| and |b| is calculated by creating a matrix of dimensions |a+1|x|b+1| and then filling the matrix by the following equation:<br>\n",
    "lev<sub>a,b</sub>(i,j) = <br>\n",
    "a. max(i,j) IF min(i,j)=0<br>\n",
    "b. minimum of:    \n",
    "    <ol> <li>lev<sub>a,b</sub>(i-1,j)+1</li>\n",
    "    <li>lev<sub>a,b</sub>(i,j-1)+1</li>\n",
    "    <li>lev<sub>a,b</sub>(i-1,j-1)+ \n",
    "            *1 if (a<sub>i</sub> != b<sub>j</sub>), 0 otherwise*</li> </ol>"
   ]
  },
  {
   "cell_type": "code",
   "execution_count": 1,
   "metadata": {},
   "outputs": [],
   "source": [
    "import pandas as pd"
   ]
  },
  {
   "cell_type": "code",
   "execution_count": 2,
   "metadata": {},
   "outputs": [],
   "source": [
    "def calculate_levenshtein_distance(string_a, string_b):\n",
    "    ## TODO: Write the functionality that calculates how many edit operations are required to change one string into another\n",
    "    ## Example: Distance \"HONDA\" to \"HYUNDAI\" is 3, where the operations are adding \"Y\" after H in Honda\n",
    "    ## Then replacing O with Y, then keeping N, keeping D, keeping A, adding I.\n",
    "    return 0"
   ]
  },
  {
   "cell_type": "code",
   "execution_count": 3,
   "metadata": {},
   "outputs": [
    {
     "name": "stdout",
     "output_type": "stream",
     "text": [
      "The Levenshtein Distance between 'HONDA' and 'HYUNDAI' is 3\n"
     ]
    }
   ],
   "source": [
    "def calculate_levenshtein_distance(string_a, string_b):\n",
    "    # Create a matrix of dimensions (len(string_a)+1) x (len(string_b)+1)\n",
    "    matrix = [[0] * (len(string_b) + 1) for _ in range(len(string_a) + 1)]\n",
    "\n",
    "    # Initialize the first row and first column of the matrix\n",
    "    for i in range(len(string_a) + 1):\n",
    "        matrix[i][0] = i\n",
    "    for j in range(len(string_b) + 1):\n",
    "        matrix[0][j] = j\n",
    "\n",
    "    # Fill in the matrix\n",
    "    for i in range(1, len(string_a) + 1):\n",
    "        for j in range(1, len(string_b) + 1):\n",
    "            if string_a[i-1] == string_b[j-1]:\n",
    "                cost = 0\n",
    "            else:\n",
    "                cost = 1\n",
    "            matrix[i][j] = min(\n",
    "                matrix[i-1][j] + 1,      # Deletion\n",
    "                matrix[i][j-1] + 1,      # Insertion\n",
    "                matrix[i-1][j-1] + cost  # Substitution\n",
    "            )\n",
    "\n",
    "    # The distance is the value in the bottom right corner of the matrix\n",
    "    return matrix[-1][-1]\n",
    "\n",
    "# Example usage\n",
    "string_a = \"HONDA\"\n",
    "string_b = \"HYUNDAI\"\n",
    "print(f\"The Levenshtein Distance between '{string_a}' and '{string_b}' is {calculate_levenshtein_distance(string_a, string_b)}\")\n"
   ]
  },
  {
   "cell_type": "markdown",
   "metadata": {},
   "source": [
    "2- Using the implemented Levenshtein's distance, merge the following dataframes based on the closest match for the \"Name\" attribute. (You will need to find first the matching pairs)"
   ]
  },
  {
   "cell_type": "code",
   "execution_count": 3,
   "metadata": {},
   "outputs": [],
   "source": [
    "# First Dataframe\n",
    "data1 = {'ID1': [1, 2, 3, 4],\n",
    "         'Name1': ['John Smith', 'Alice Johnson', 'Bob Marley', 'David Doe']}\n",
    "df1 = pd.DataFrame(data1)\n",
    "# Second Dataframe\n",
    "data2 = {'ID2': [101, 102, 103, 104,105],\n",
    "         'Name2': ['Jon Smith', 'Alyce Jonson', 'Robert Marley', 'Dave D.', 'Rob Marly']}\n",
    "df2 = pd.DataFrame(data2)"
   ]
  },
  {
   "cell_type": "code",
   "execution_count": 4,
   "metadata": {},
   "outputs": [
    {
     "name": "stdout",
     "output_type": "stream",
     "text": [
      "   ID1  ID2          Name1 Closest_Name2  Distance\n",
      "0    1  101     John Smith     Jon Smith         1\n",
      "1    2  102  Alice Johnson  Alyce Jonson         2\n",
      "2    3  105     Bob Marley     Rob Marly         2\n",
      "3    4  104      David Doe       Dave D.         4\n"
     ]
    }
   ],
   "source": [
    "import pandas as pd\n",
    "\n",
    "#  calculate_levenshtein_distance is already defined\n",
    "\n",
    "# Dataframes\n",
    "data1 = {'ID1': [1, 2, 3, 4],\n",
    "         'Name1': ['John Smith', 'Alice Johnson', 'Bob Marley', 'David Doe']}\n",
    "df1 = pd.DataFrame(data1)\n",
    "\n",
    "data2 = {'ID2': [101, 102, 103, 104, 105],\n",
    "         'Name2': ['Jon Smith', 'Alyce Jonson', 'Robert Marley', 'Dave D.', 'Rob Marly']}\n",
    "df2 = pd.DataFrame(data2)\n",
    "\n",
    "# Calculate the Levenshtein distance and find the closest matches\n",
    "closest_matches = []\n",
    "for i, row1 in df1.iterrows():\n",
    "    min_distance = float('inf')\n",
    "    closest_name = None\n",
    "    closest_id = None\n",
    "    for j, row2 in df2.iterrows():\n",
    "        distance = calculate_levenshtein_distance(row1['Name1'], row2['Name2'])\n",
    "        if distance < min_distance:\n",
    "            min_distance = distance\n",
    "            closest_name = row2['Name2']\n",
    "            closest_id = row2['ID2']\n",
    "    closest_matches.append((row1['ID1'], closest_id, row1['Name1'], closest_name, min_distance))\n",
    "\n",
    "# Convert the closest matches to a DataFrame\n",
    "matches_df = pd.DataFrame(closest_matches, columns=['ID1', 'ID2', 'Name1', 'Closest_Name2', 'Distance'])\n",
    "\n",
    "# Display the matches and their distances\n",
    "print(matches_df)\n",
    "\n"
   ]
  },
  {
   "cell_type": "markdown",
   "metadata": {},
   "source": [
    "3- Using bookings and yachts csv:\n",
    "<ol>\n",
    "    <li> Inspect the bookings and yachts csv files.</li>\n",
    "    <li> Before merging, make sure to keep only bookings with correctly formatted Yacht_IDs, where the Yacht_ID should be in a format of two characters, followed by 3 numbers.</li>\n",
    "    <li> Combine both dataframes into one dataframe.</li>\n",
    "        <li> Make sure that all columns are of correct format where it is expected that: <br>\n",
    "            a. Title, First_Name, Last_Name, Street_Address, Area, Post_Code, Telephone, Yacht_ID, Yacht_Name, Yacht_Make, Yacht_Ref, Depart_Port, Depart_Country<br>\n",
    "            b. Cust_ID, Built, Length(m), Cabins, Toilets, Guiests, Day_Rate are Numbers <br>\n",
    "            c. Depart_Date is Date (its original format id dd/mm/yyyy)</li>\n",
    "        \n",
    "</ol>\n",
    "\n",
    "***Note: Data may contain Latin Characters, You may need to use Latin Encoding, drop data where name contains any characters other than normal alphabetics***"
   ]
  },
  {
   "cell_type": "markdown",
   "metadata": {},
   "source": [
    "### Step 1: Inspect the bookings and yachts csv files"
   ]
  },
  {
   "cell_type": "code",
   "execution_count": 30,
   "metadata": {},
   "outputs": [
    {
     "name": "stdout",
     "output_type": "stream",
     "text": [
      "  Title   First_Name   Last_Name  Cust_ID        Street_Address        Area   \n",
      "0    Mr       Finley       Kosar     1580      27 Culmore Cross      Marden  \\\n",
      "1    Ms      Caitlin    Anderson     1322      34 Portelet Road   Southwell   \n",
      "2    Mr  Christopher  Washington     1323    108 Chatsworth Way  New Milton   \n",
      "3   Mrs       Nicola    Leighton     1330  108 St Maurices Road     Preston   \n",
      "4    Mr        David       Ellis     1338        15 Omega Place    Hatfield   \n",
      "\n",
      "  Post_Code    Telephone Depart_Date  Days Yacht_ID  \n",
      "0  TN21 1ZL  77009001111   12/6/2022    14   SY0182  \n",
      "1   KA8 9LJ  77009001122  26/07/2022     8    SY098  \n",
      "2  BH25 6GY  77009001133    7/5/2022    10    SY026  \n",
      "3   CT3 8BR  77009001152    7/5/2022    14    SY118  \n",
      "4   ML6 0XP  77009001154  23/06/2022    14    SY094  \n",
      "           Yacht_Name           Yacht_Make Yacht_Ref          Depart_Port   \n",
      "0       Adriatic Star  Balandro Calypso 45     SY001  Pavao Island Marina  \\\n",
      "1       Amber Sunrise  Benedetti 37 Mirage     SY002  Pavao Island Marina   \n",
      "2      Anne Elizabeth   Marchal Grande 410     SY003          Port Djurak   \n",
      "3          Aqua Calma  Benedetti 37 Mirage     SY004     Marina Naupotiri   \n",
      "4  Arizona Challenger   Marchal Grande 382     SY005  Pavao Island Marina   \n",
      "\n",
      "  Depart_Country  Built  Length(m)  Cabins  Toilets  Guests  Day_Rate  \n",
      "0        Croatia   2013      13.85       4        2      10       656  \n",
      "1        Croatia   2014      11.30       3        1       8       431  \n",
      "2        Croatia   2016      12.35       3        2       8       486  \n",
      "3         Greece   2007      11.35       3        1       8       377  \n",
      "4        Croatia   2016      11.23       3        2       8       423  \n"
     ]
    }
   ],
   "source": [
    "import pandas as pd\n",
    "\n",
    "# Load the CSV files with Latin encoding to handle any special characters\n",
    "bookings = pd.read_csv('csvs/bookings.csv', encoding='latin1')\n",
    "yachts = pd.read_csv('csvs/yachts_2.csv', encoding='latin1')\n",
    "\n",
    "# Inspect the first few rows to understand the structure\n",
    "print(bookings.head())\n",
    "print(yachts.head())\n"
   ]
  },
  {
   "cell_type": "markdown",
   "metadata": {},
   "source": [
    "### Step 2:Clean the Bookings DataFrame\n",
    "Filter out bookings with incorrectly formatted Yacht_IDs and ensure names contain only alphabetic characters.\n",
    "Before merging, make sure to keep only bookings with correctly formatted Yacht_IDs, where the Yacht_ID should be in a format of two characters, followed by 3 numbers.</li>"
   ]
  },
  {
   "cell_type": "code",
   "execution_count": 31,
   "metadata": {},
   "outputs": [],
   "source": [
    "# Keep only bookings with correctly formatted Yacht_IDs\n",
    "bookings = bookings[bookings['Yacht_ID'].str.match(r'^[A-Za-z]{2}\\d{3}$', na=False)]\n",
    "\n",
    "# Additionally, drop rows where names contain characters outside the normal alphabetic range\n",
    "bookings = bookings[bookings['First_Name'].str.isalpha() & bookings['Last_Name'].str.isalpha()]\n"
   ]
  },
  {
   "cell_type": "code",
   "execution_count": 40,
   "metadata": {},
   "outputs": [
    {
     "name": "stdout",
     "output_type": "stream",
     "text": [
      "object\n",
      "object\n"
     ]
    }
   ],
   "source": [
    "#here just want to make sure that the Yacht_ID column \n",
    "#in the bookings dataframe is of the same type as the Yacht_Ref column in the yachts dataframe \n",
    "print(bookings['Yacht_ID'].dtype)\n",
    "print(yachts['Yacht_Ref'].dtype)"
   ]
  },
  {
   "cell_type": "markdown",
   "metadata": {},
   "source": [
    "### Step 3: Combine Both DataFrames\n",
    "Merge the cleaned bookings DataFrame with the yachts DataFrame based on Yacht_ID."
   ]
  },
  {
   "cell_type": "code",
   "execution_count": 41,
   "metadata": {},
   "outputs": [
    {
     "name": "stdout",
     "output_type": "stream",
     "text": [
      "  Title First_Name Last_Name  Cust_ID          Street_Address         Area   \n",
      "0    Ms    Caitlin  Anderson     1322        34 Portelet Road    Southwell  \\\n",
      "1   Mrs     Lauren    George     1358        85 Havant Arcade     Holywell   \n",
      "2    Mr       Evan     Lewis     2719  106 East Dombey Square     Richmond   \n",
      "3    Mr      Henry    Rhodes     3074     125 Chalfont Avenue          Ely   \n",
      "4    Mr      Lucas      Rose     3131         50 Saffron Hill  Petersfield   \n",
      "\n",
      "  Post_Code    Telephone Depart_Date  Days  ...      Yacht_Make Yacht_Ref   \n",
      "0   KA8 9LJ  77009001122  26/07/2022     8  ...  Sevier Luna 42     SY098  \\\n",
      "1  BN17 8EH  77009001171  21/08/2022    14  ...  Sevier Luna 42     SY098   \n",
      "2   CA5 3GN  77009005417    7/5/2022    28  ...  Sevier Luna 42     SY098   \n",
      "3   CT4 7ZT  77009006374    7/6/2022    16  ...  Sevier Luna 42     SY098   \n",
      "4  SA12 4NW  77009006539    5/8/2022    16  ...  Sevier Luna 42     SY098   \n",
      "\n",
      "    Depart_Port Depart_Country Built Length(m)  Cabins  Toilets  Guests   \n",
      "0  Marina Vitus        Croatia  2017      12.8       6        4      12  \\\n",
      "1  Marina Vitus        Croatia  2017      12.8       6        4      12   \n",
      "2  Marina Vitus        Croatia  2017      12.8       6        4      12   \n",
      "3  Marina Vitus        Croatia  2017      12.8       6        4      12   \n",
      "4  Marina Vitus        Croatia  2017      12.8       6        4      12   \n",
      "\n",
      "   Day_Rate  \n",
      "0      1057  \n",
      "1      1057  \n",
      "2      1057  \n",
      "3      1057  \n",
      "4      1057  \n",
      "\n",
      "[5 rows x 22 columns]\n"
     ]
    }
   ],
   "source": [
    "# Merge the DataFrames using the correct column names\n",
    "combined_df = pd.merge(bookings, yachts, left_on='Yacht_ID', right_on='Yacht_Ref', how='inner')\n",
    "\n",
    "# Check the combined DataFrame\n",
    "print(combined_df.head())"
   ]
  },
  {
   "cell_type": "markdown",
   "metadata": {},
   "source": [
    "Step 4: Ensure Correct Column Formats<br>\n",
    "now after merging the dataframs,lets ensure all columns are in their correct formats, especially focusing on numeric types and date formatting."
   ]
  },
  {
   "cell_type": "code",
   "execution_count": 42,
   "metadata": {},
   "outputs": [
    {
     "name": "stdout",
     "output_type": "stream",
     "text": [
      "Title                     object\n",
      "First_Name                object\n",
      "Last_Name                 object\n",
      "Cust_ID                    int64\n",
      "Street_Address            object\n",
      "Area                      object\n",
      "Post_Code                 object\n",
      "Telephone                  int64\n",
      "Depart_Date       datetime64[ns]\n",
      "Days                       int64\n",
      "Yacht_ID                  object\n",
      "Yacht_Name                object\n",
      "Yacht_Make                object\n",
      "Yacht_Ref                 object\n",
      "Depart_Port               object\n",
      "Depart_Country            object\n",
      "Built                      int64\n",
      "Length(m)                float64\n",
      "Cabins                     int64\n",
      "Toilets                    int64\n",
      "Guests                     int64\n",
      "Day_Rate                   int64\n",
      "dtype: object\n"
     ]
    }
   ],
   "source": [
    "# Convert 'Depart_Date' to datetime format\n",
    "combined_df['Depart_Date'] = pd.to_datetime(combined_df['Depart_Date'], format='%d/%m/%Y', errors='coerce')\n",
    "\n",
    "# Convert numeric columns to appropriate types\n",
    "numeric_columns = ['Cust_ID', 'Built', 'Length(m)', 'Cabins', 'Toilets', 'Guests', 'Day_Rate']\n",
    "combined_df[numeric_columns] = combined_df[numeric_columns].apply(pd.to_numeric, errors='coerce')\n",
    "\n",
    "# Check the DataFrame to ensure all formats are correct\n",
    "print(combined_df.dtypes)\n"
   ]
  },
  {
   "cell_type": "markdown",
   "metadata": {},
   "source": [
    "The result shows the data types of each column in the merged DataFrame. It looks like the merge was successful, and the data types are mostly as expected based on our requirements. "
   ]
  }
 ],
 "metadata": {
  "kernelspec": {
   "display_name": "CSCN8010_classic_ml",
   "language": "python",
   "name": "cscn8010_classic_ml"
  },
  "language_info": {
   "codemirror_mode": {
    "name": "ipython",
    "version": 3
   },
   "file_extension": ".py",
   "mimetype": "text/x-python",
   "name": "python",
   "nbconvert_exporter": "python",
   "pygments_lexer": "ipython3",
   "version": "3.11.7"
  }
 },
 "nbformat": 4,
 "nbformat_minor": 2
}
